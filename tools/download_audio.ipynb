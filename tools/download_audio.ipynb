{
 "cells": [
  {
   "cell_type": "code",
   "execution_count": 8,
   "metadata": {},
   "outputs": [],
   "source": [
    "kLangKey = \"fr\"\n",
    "sourcepath = \"new_dicts/\" # put the txt files there (like fr_a1_1.txt, ...)"
   ]
  },
  {
   "cell_type": "code",
   "execution_count": 9,
   "metadata": {},
   "outputs": [],
   "source": [
    "import os\n",
    "import time\n",
    "from gtts import gTTS\n",
    "import tqdm\n",
    "\n",
    "\n",
    "def get_audiofile_name(word):\n",
    "    symbols_to_replace = \" .,?!\\\"\\'\"\n",
    "    audiofile_name = \"\"\n",
    "    for w in word:\n",
    "        audiofile_name = audiofile_name + (w if w not in symbols_to_replace else \"_\")\n",
    "    return audiofile_name + \".mp3\"\n",
    "\n",
    "# portugese = pt, czech = cs\n",
    "def load_audio(word, audiopath=\"./\", slow=True, lang_key=kLangKey):\n",
    "    myobj = gTTS(text=word, lang=lang_key, slow=slow)\n",
    "    \n",
    "    filename = get_audiofile_name(word)\n",
    "    myobj.save(audiopath + filename)\n",
    "\n",
    "    time.sleep(0.1)\n",
    "#         print(\"|\",end=\"\")"
   ]
  },
  {
   "cell_type": "markdown",
   "metadata": {},
   "source": [
    "## Load dict in txt format "
   ]
  },
  {
   "cell_type": "code",
   "execution_count": 10,
   "metadata": {},
   "outputs": [
    {
     "data": {
      "text/plain": [
       "['fr_a1_1', 'fr_a1_2', 'fr_a1_3']"
      ]
     },
     "execution_count": 10,
     "metadata": {},
     "output_type": "execute_result"
    }
   ],
   "source": [
    "# For dicts in txt files\n",
    "\n",
    "dicts = ! ls $sourcepath\n",
    "dicts = [x[:-4] for x in dicts if x.find(\".txt\") != -1]\n",
    "dicts"
   ]
  },
  {
   "cell_type": "code",
   "execution_count": 11,
   "metadata": {},
   "outputs": [
    {
     "name": "stdout",
     "output_type": "stream",
     "text": [
      "Start to download audio for fr_a1_1:\tread 80 words\n",
      "Loading: "
     ]
    },
    {
     "name": "stderr",
     "output_type": "stream",
     "text": [
      "100%|███████████████████████████████████████████████████████████████████████████| 80/80 [00:35<00:00,  2.24it/s]\n"
     ]
    },
    {
     "name": "stdout",
     "output_type": "stream",
     "text": [
      "\tSuccess!\n",
      "Start to download audio for fr_a1_2:\tread 79 words\n",
      "Loading: "
     ]
    },
    {
     "name": "stderr",
     "output_type": "stream",
     "text": [
      "100%|███████████████████████████████████████████████████████████████████████████| 79/79 [00:34<00:00,  2.28it/s]\n"
     ]
    },
    {
     "name": "stdout",
     "output_type": "stream",
     "text": [
      "\tSuccess!\n",
      "Start to download audio for fr_a1_3:\tread 75 words\n",
      "Loading: "
     ]
    },
    {
     "name": "stderr",
     "output_type": "stream",
     "text": [
      "100%|███████████████████████████████████████████████████████████████████████████| 75/75 [00:33<00:00,  2.23it/s]"
     ]
    },
    {
     "name": "stdout",
     "output_type": "stream",
     "text": [
      "\tSuccess!\n"
     ]
    },
    {
     "name": "stderr",
     "output_type": "stream",
     "text": [
      "\n"
     ]
    }
   ],
   "source": [
    "for dictname in dicts:\n",
    "    print(\"Start to download audio for\", dictname, end=\":\\t\")\n",
    "    \n",
    "    with open(sourcepath + dictname + \".txt\", \"r\", encoding=\"UTF-8\") as f:\n",
    "        words = [w.split(\"\\t\")[0].strip() for w in f.read().split(\"\\n\") if w != \"\"]\n",
    "        print(\"read\", len(words), \"words\") \n",
    "\n",
    "    dictpath = sourcepath + dictname + \"/\"\n",
    "    audiopath = dictpath + dictname + \"_audio/\"\n",
    "    os.mkdir(dictpath)\n",
    "    os.mkdir(audiopath)\n",
    "    \n",
    "    print(\"Loading: \", end=\"\")\n",
    "    for word in tqdm.tqdm(words):\n",
    "        load_audio(word, audiopath)\n",
    "    print(\"\\tSuccess!\")"
   ]
  },
  {
   "cell_type": "code",
   "execution_count": null,
   "metadata": {},
   "outputs": [],
   "source": []
  },
  {
   "cell_type": "markdown",
   "metadata": {},
   "source": [
    "### Directly from wordlist"
   ]
  },
  {
   "cell_type": "code",
   "execution_count": 4,
   "metadata": {},
   "outputs": [],
   "source": [
    "# For wordlist:\n",
    "\n",
    "words = \"\"\"\n",
    "nul\n",
    "\"\"\".split(\"\\n\")\n",
    "words = [x for x in words if x != \"\"]\n",
    "\n",
    "audiopath = \"./\"\n",
    "\n",
    "for word in words:\n",
    "    load_audio(word, audiopath)"
   ]
  },
  {
   "cell_type": "code",
   "execution_count": null,
   "metadata": {},
   "outputs": [],
   "source": [
    "def load_audio(word, audiopath=\"./\", slow=True, lang_key=\"pt\"):\n"
   ]
  },
  {
   "cell_type": "code",
   "execution_count": 30,
   "metadata": {},
   "outputs": [],
   "source": [
    "myobj = gTTS(text=\"nul\", lang=\"nl\", slow=True, tld='nl-bg')"
   ]
  },
  {
   "cell_type": "code",
   "execution_count": null,
   "metadata": {},
   "outputs": [],
   "source": [
    "myobj.save(\"./null.mp3\")"
   ]
  },
  {
   "cell_type": "code",
   "execution_count": 13,
   "metadata": {},
   "outputs": [],
   "source": [
    "filename = get_audiofile_name(word)\n",
    "myobj.save(audiopath + filename)\n",
    "\n",
    "time.sleep(1)\n",
    "#         print(\"|\",end=\"\")"
   ]
  },
  {
   "cell_type": "code",
   "execution_count": null,
   "metadata": {},
   "outputs": [],
   "source": []
  }
 ],
 "metadata": {
  "kernelspec": {
   "display_name": "Python 3 (ipykernel)",
   "language": "python",
   "name": "python3"
  },
  "language_info": {
   "codemirror_mode": {
    "name": "ipython",
    "version": 3
   },
   "file_extension": ".py",
   "mimetype": "text/x-python",
   "name": "python",
   "nbconvert_exporter": "python",
   "pygments_lexer": "ipython3",
   "version": "3.12.3"
  }
 },
 "nbformat": 4,
 "nbformat_minor": 4
}
